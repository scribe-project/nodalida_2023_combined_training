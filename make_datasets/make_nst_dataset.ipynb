{
 "cells": [
  {
   "attachments": {},
   "cell_type": "markdown",
   "metadata": {},
   "source": [
    "# Make cleaned NST datasets "
   ]
  },
  {
   "cell_type": "code",
   "execution_count": 2,
   "metadata": {},
   "outputs": [],
   "source": [
    "import pandas as pd\n",
    "from datasets import load_dataset, Audio\n",
    "from pathlib import Path"
   ]
  },
  {
   "cell_type": "code",
   "execution_count": 3,
   "metadata": {},
   "outputs": [],
   "source": [
    "cols = [\n",
    "    \"speaker_id\",\n",
    "    \"gender\",\n",
    "    \"utterance_id\",\n",
    "    \"language\",\n",
    "    \"raw_text\",\n",
    "    \"full_audio_file\",\n",
    "    \"original_data_split\",\n",
    "    \"region\",\n",
    "    \"duration\",\n",
    "    \"start\",\n",
    "    \"end\",\n",
    "    \"utterance_audio_file\",\n",
    "    \"standardized_text\",\n",
    "]"
   ]
  },
  {
   "cell_type": "code",
   "execution_count": 4,
   "metadata": {},
   "outputs": [],
   "source": [
    "nst_data_files_raw = {\"train\": \"raw_datasets/nst_20221005_train.csv\", \"test\": \"raw_datasets/nst_20221005_test.csv\", \"validation\": \"raw_datasets/nst_20221005_eval.csv\"}"
   ]
  },
  {
   "cell_type": "code",
   "execution_count": 6,
   "metadata": {},
   "outputs": [
    {
     "name": "stdout",
     "output_type": "stream",
     "text": [
      "nst/nst_train.csv\n",
      "nst/nst_test.csv\n",
      "nst/nst_validation.csv\n"
     ]
    }
   ],
   "source": [
    "dataset_name = \"nst\"\n",
    "dataset_dir = Path(\"nst\")\n",
    "for k, v in nst_data_files_raw.items():\n",
    "    df = pd.read_csv(v, names=cols).dropna(subset=[\"utterance_audio_file\", \"standardized_text\"]).query(f\"language == 'nb-NO' & duration > 1 & duration < 15\") # possibly add other cleanup methods here\n",
    "    outpath = dataset_dir / (dataset_name + \"_\" + k + \".csv\")\n",
    "    df.to_csv(outpath, index=False)\n",
    "    print(outpath)"
   ]
  },
  {
   "cell_type": "code",
   "execution_count": null,
   "metadata": {},
   "outputs": [],
   "source": []
  }
 ],
 "metadata": {
  "kernelspec": {
   "display_name": "scribe",
   "language": "python",
   "name": "scribe"
  },
  "language_info": {
   "codemirror_mode": {
    "name": "ipython",
    "version": 3
   },
   "file_extension": ".py",
   "mimetype": "text/x-python",
   "name": "python",
   "nbconvert_exporter": "python",
   "pygments_lexer": "ipython3",
   "version": "3.8.10"
  },
  "orig_nbformat": 4,
  "vscode": {
   "interpreter": {
    "hash": "d66c501128f0142389695bbff858a59eb740d2433f36fa1e590789fe92ac13c0"
   }
  }
 },
 "nbformat": 4,
 "nbformat_minor": 2
}
