{
 "cells": [
  {
   "attachments": {},
   "cell_type": "markdown",
   "metadata": {},
   "source": [
    "# Make NB Tale CSVs"
   ]
  },
  {
   "cell_type": "code",
   "execution_count": 25,
   "metadata": {},
   "outputs": [],
   "source": [
    "import pandas as pd\n",
    "from datasets import load_dataset, Audio\n",
    "from pathlib import Path"
   ]
  },
  {
   "cell_type": "code",
   "execution_count": 26,
   "metadata": {},
   "outputs": [],
   "source": [
    "cols = [\n",
    "    \"speaker_id\",\n",
    "    \"gender\",\n",
    "    \"utterance_id\",\n",
    "    \"language\",\n",
    "    \"raw_text\",\n",
    "    \"full_audio_file\",\n",
    "    \"original_data_split\",\n",
    "    \"region\",\n",
    "    \"duration\",\n",
    "    \"start\",\n",
    "    \"end\",\n",
    "    \"utterance_audio_file\",\n",
    "    \"standardized_text\",\n",
    "]"
   ]
  },
  {
   "cell_type": "code",
   "execution_count": 27,
   "metadata": {},
   "outputs": [],
   "source": [
    "csvs_nbtale = {\n",
    "    \"nbtale_12\": \"raw_datasets/nbtale12_20230105.csv\",\n",
    "    \"nbtale_3\": \"raw_datasets/nbtale3_20230105.csv\",\n",
    "    }"
   ]
  },
  {
   "cell_type": "code",
   "execution_count": 28,
   "metadata": {},
   "outputs": [
    {
     "name": "stdout",
     "output_type": "stream",
     "text": [
      "nbtale/nbtale_12.csv\n",
      "nbtale/nbtale_3.csv\n"
     ]
    }
   ],
   "source": [
    "dataset_dir = Path(\"nbtale\")\n",
    "for k, v in csvs_nbtale.items():\n",
    "    df = pd.read_csv(v, names=cols).query(\"duration > 1 & duration < 15 & language == 'nb-NO'\")\n",
    "    outpath = dataset_dir / (k + \".csv\")\n",
    "    df.to_csv(outpath, index=False)\n",
    "    print(outpath)"
   ]
  },
  {
   "cell_type": "code",
   "execution_count": null,
   "metadata": {},
   "outputs": [],
   "source": []
  }
 ],
 "metadata": {
  "kernelspec": {
   "display_name": "scribe",
   "language": "python",
   "name": "scribe"
  },
  "language_info": {
   "codemirror_mode": {
    "name": "ipython",
    "version": 3
   },
   "file_extension": ".py",
   "mimetype": "text/x-python",
   "name": "python",
   "nbconvert_exporter": "python",
   "pygments_lexer": "ipython3",
   "version": "3.8.10"
  },
  "orig_nbformat": 4,
  "vscode": {
   "interpreter": {
    "hash": "d66c501128f0142389695bbff858a59eb740d2433f36fa1e590789fe92ac13c0"
   }
  }
 },
 "nbformat": 4,
 "nbformat_minor": 2
}
