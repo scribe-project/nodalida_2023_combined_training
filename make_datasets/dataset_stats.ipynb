{
 "cells": [
  {
   "attachments": {},
   "cell_type": "markdown",
   "metadata": {},
   "source": [
    "# Dataset stats for the paper \"Improving Generalization of Norwegian ASR with Limited Linguistic Resources\""
   ]
  },
  {
   "attachments": {},
   "cell_type": "markdown",
   "metadata": {},
   "source": [
    "## Stats for the subsets used in the experiments"
   ]
  },
  {
   "cell_type": "code",
   "execution_count": 22,
   "metadata": {},
   "outputs": [],
   "source": [
    "import pandas as pd\n",
    "from pathlib import Path"
   ]
  },
  {
   "cell_type": "code",
   "execution_count": 23,
   "metadata": {},
   "outputs": [],
   "source": [
    "npsc_files = list(Path(\"npsc\").glob(\"*_nb.csv\"))\n",
    "rundkast_files = list(Path(\"rundkast\").glob(\"*_nb.csv\"))\n",
    "nbtale_files = list(Path(\"nbtale\").glob(\"*.csv\"))\n",
    "nst_files = list(Path(\"nst\").glob(\"*.csv\"))\n",
    "combined_sample_files = list(Path(\"combined_datasets\").glob(\"*sample_nb*.csv\"))\n",
    "combined_total_files = list(Path(\"combined_datasets\").glob(\"*total_nb*.csv\"))\n",
    "all_files = npsc_files + rundkast_files + nbtale_files + nst_files + combined_sample_files + combined_total_files"
   ]
  },
  {
   "cell_type": "code",
   "execution_count": 24,
   "metadata": {},
   "outputs": [],
   "source": [
    "def get_stats(filename):\n",
    "    dataset = filename.stem\n",
    "    df = pd.read_csv(filename).query(\"region != 'foreign'\")\n",
    "    duration = round(df.duration.sum()/3600, 1)\n",
    "    speakers = df.speaker_id.nunique()\n",
    "    return {\"dataset\": dataset, \"duration\": duration, \"num_speakers\": speakers}\n"
   ]
  },
  {
   "cell_type": "code",
   "execution_count": 25,
   "metadata": {},
   "outputs": [],
   "source": [
    "stats = []\n",
    "for f in all_files:\n",
    "    statsdict = get_stats(f)\n",
    "    stats.append(statsdict)\n",
    "stats_df = pd.DataFrame(stats)"
   ]
  },
  {
   "cell_type": "code",
   "execution_count": 26,
   "metadata": {},
   "outputs": [
    {
     "data": {
      "text/html": [
       "<div>\n",
       "<style scoped>\n",
       "    .dataframe tbody tr th:only-of-type {\n",
       "        vertical-align: middle;\n",
       "    }\n",
       "\n",
       "    .dataframe tbody tr th {\n",
       "        vertical-align: top;\n",
       "    }\n",
       "\n",
       "    .dataframe thead th {\n",
       "        text-align: right;\n",
       "    }\n",
       "</style>\n",
       "<table border=\"1\" class=\"dataframe\">\n",
       "  <thead>\n",
       "    <tr style=\"text-align: right;\">\n",
       "      <th></th>\n",
       "      <th>dataset</th>\n",
       "      <th>duration</th>\n",
       "      <th>num_speakers</th>\n",
       "    </tr>\n",
       "  </thead>\n",
       "  <tbody>\n",
       "    <tr>\n",
       "      <th>0</th>\n",
       "      <td>npsc_test_nb</td>\n",
       "      <td>9.1</td>\n",
       "      <td>84</td>\n",
       "    </tr>\n",
       "    <tr>\n",
       "      <th>1</th>\n",
       "      <td>npsc_validation_nb</td>\n",
       "      <td>9.6</td>\n",
       "      <td>78</td>\n",
       "    </tr>\n",
       "    <tr>\n",
       "      <th>2</th>\n",
       "      <td>npsc_train_nb</td>\n",
       "      <td>70.3</td>\n",
       "      <td>234</td>\n",
       "    </tr>\n",
       "    <tr>\n",
       "      <th>3</th>\n",
       "      <td>rundkast_test_nb</td>\n",
       "      <td>5.9</td>\n",
       "      <td>387</td>\n",
       "    </tr>\n",
       "    <tr>\n",
       "      <th>4</th>\n",
       "      <td>rundkast_validation_nb</td>\n",
       "      <td>5.5</td>\n",
       "      <td>347</td>\n",
       "    </tr>\n",
       "    <tr>\n",
       "      <th>5</th>\n",
       "      <td>rundkast_train_nb</td>\n",
       "      <td>43.6</td>\n",
       "      <td>1032</td>\n",
       "    </tr>\n",
       "    <tr>\n",
       "      <th>6</th>\n",
       "      <td>nbtale_12</td>\n",
       "      <td>9.3</td>\n",
       "      <td>240</td>\n",
       "    </tr>\n",
       "    <tr>\n",
       "      <th>7</th>\n",
       "      <td>nbtale_3</td>\n",
       "      <td>7.4</td>\n",
       "      <td>229</td>\n",
       "    </tr>\n",
       "    <tr>\n",
       "      <th>8</th>\n",
       "      <td>nst_validation</td>\n",
       "      <td>25.8</td>\n",
       "      <td>58</td>\n",
       "    </tr>\n",
       "    <tr>\n",
       "      <th>9</th>\n",
       "      <td>nst_test</td>\n",
       "      <td>25.6</td>\n",
       "      <td>58</td>\n",
       "    </tr>\n",
       "    <tr>\n",
       "      <th>10</th>\n",
       "      <td>nst_train</td>\n",
       "      <td>287.0</td>\n",
       "      <td>876</td>\n",
       "    </tr>\n",
       "    <tr>\n",
       "      <th>11</th>\n",
       "      <td>npsc_rundkast_sample_nb_train</td>\n",
       "      <td>70.4</td>\n",
       "      <td>1252</td>\n",
       "    </tr>\n",
       "    <tr>\n",
       "      <th>12</th>\n",
       "      <td>npsc_rundkast_sample_nb_test</td>\n",
       "      <td>9.2</td>\n",
       "      <td>460</td>\n",
       "    </tr>\n",
       "    <tr>\n",
       "      <th>13</th>\n",
       "      <td>npsc_rundkast_sample_nb_eval</td>\n",
       "      <td>9.7</td>\n",
       "      <td>422</td>\n",
       "    </tr>\n",
       "    <tr>\n",
       "      <th>14</th>\n",
       "      <td>npsc_rundkast_total_nb_train</td>\n",
       "      <td>114.0</td>\n",
       "      <td>1266</td>\n",
       "    </tr>\n",
       "    <tr>\n",
       "      <th>15</th>\n",
       "      <td>npsc_rundkast_total_nb_test</td>\n",
       "      <td>15.0</td>\n",
       "      <td>471</td>\n",
       "    </tr>\n",
       "    <tr>\n",
       "      <th>16</th>\n",
       "      <td>npsc_rundkast_total_nb_eval</td>\n",
       "      <td>15.1</td>\n",
       "      <td>425</td>\n",
       "    </tr>\n",
       "  </tbody>\n",
       "</table>\n",
       "</div>"
      ],
      "text/plain": [
       "                          dataset  duration  num_speakers\n",
       "0                    npsc_test_nb       9.1            84\n",
       "1              npsc_validation_nb       9.6            78\n",
       "2                   npsc_train_nb      70.3           234\n",
       "3                rundkast_test_nb       5.9           387\n",
       "4          rundkast_validation_nb       5.5           347\n",
       "5               rundkast_train_nb      43.6          1032\n",
       "6                       nbtale_12       9.3           240\n",
       "7                        nbtale_3       7.4           229\n",
       "8                  nst_validation      25.8            58\n",
       "9                        nst_test      25.6            58\n",
       "10                      nst_train     287.0           876\n",
       "11  npsc_rundkast_sample_nb_train      70.4          1252\n",
       "12   npsc_rundkast_sample_nb_test       9.2           460\n",
       "13   npsc_rundkast_sample_nb_eval       9.7           422\n",
       "14   npsc_rundkast_total_nb_train     114.0          1266\n",
       "15    npsc_rundkast_total_nb_test      15.0           471\n",
       "16    npsc_rundkast_total_nb_eval      15.1           425"
      ]
     },
     "execution_count": 26,
     "metadata": {},
     "output_type": "execute_result"
    }
   ],
   "source": [
    "stats_df"
   ]
  },
  {
   "attachments": {},
   "cell_type": "markdown",
   "metadata": {},
   "source": [
    "## Speaker count in NPSC"
   ]
  },
  {
   "cell_type": "code",
   "execution_count": 12,
   "metadata": {},
   "outputs": [],
   "source": [
    "cols = [\n",
    "    \"speaker_id\",\n",
    "    \"gender\",\n",
    "    \"utterance_id\",\n",
    "    \"language\",\n",
    "    \"raw_text\",\n",
    "    \"full_audio_file\",\n",
    "    \"original_data_split\",\n",
    "    \"region\",\n",
    "    \"duration\",\n",
    "    \"start\",\n",
    "    \"end\",\n",
    "    \"utterance_audio_file\",\n",
    "    \"standardized_text\",\n",
    "]"
   ]
  },
  {
   "cell_type": "code",
   "execution_count": 14,
   "metadata": {},
   "outputs": [],
   "source": [
    "dfs = []\n",
    "raw_dir = Path(\"raw_datasets\")\n",
    "npsc_raw_files = list(raw_dir.glob(\"npsc_*.csv\"))\n",
    "for f in npsc_raw_files:\n",
    "    df = pd.read_csv(f, names=cols)\n",
    "    dfs.append(df)\n",
    "npsc_raw_df = pd.concat(dfs)"
   ]
  },
  {
   "cell_type": "code",
   "execution_count": 16,
   "metadata": {},
   "outputs": [
    {
     "data": {
      "text/plain": [
       "267"
      ]
     },
     "execution_count": 16,
     "metadata": {},
     "output_type": "execute_result"
    }
   ],
   "source": [
    "npsc_raw_df.speaker_id.nunique()"
   ]
  }
 ],
 "metadata": {
  "kernelspec": {
   "display_name": "scribe",
   "language": "python",
   "name": "scribe"
  },
  "language_info": {
   "codemirror_mode": {
    "name": "ipython",
    "version": 3
   },
   "file_extension": ".py",
   "mimetype": "text/x-python",
   "name": "python",
   "nbconvert_exporter": "python",
   "pygments_lexer": "ipython3",
   "version": "3.8.10"
  },
  "orig_nbformat": 4
 },
 "nbformat": 4,
 "nbformat_minor": 2
}
