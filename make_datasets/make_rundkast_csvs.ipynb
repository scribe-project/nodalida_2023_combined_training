{
 "cells": [
  {
   "attachments": {},
   "cell_type": "markdown",
   "metadata": {},
   "source": [
    "# Make Rundkast huggingface dataset for ASR training"
   ]
  },
  {
   "cell_type": "code",
   "execution_count": 1,
   "metadata": {},
   "outputs": [],
   "source": [
    "import pandas as pd"
   ]
  },
  {
   "cell_type": "code",
   "execution_count": 2,
   "metadata": {},
   "outputs": [],
   "source": [
    "cols = [\n",
    "    \"speaker_id\",\n",
    "    \"gender\",\n",
    "    \"utterance_id\",\n",
    "    \"language\",\n",
    "    \"raw_text\",\n",
    "    \"full_audio_file\",\n",
    "    \"original_data_split\",\n",
    "    \"region\",\n",
    "    \"duration\",\n",
    "    \"start\",\n",
    "    \"end\",\n",
    "    \"utterance_audio_file\",\n",
    "    \"standardized_text\",\n",
    "]"
   ]
  },
  {
   "cell_type": "code",
   "execution_count": 3,
   "metadata": {},
   "outputs": [],
   "source": [
    "rundkast_data_files_raw = {\"train\": \"raw_datasets/rundkast_20221102_train.csv\", \"test\": \"raw_datasets/rundkast_20221102_test.csv\", \"validation\": \"raw_datasets/rundkast_20221102_eval.csv\"}"
   ]
  },
  {
   "cell_type": "code",
   "execution_count": 6,
   "metadata": {},
   "outputs": [
    {
     "name": "stdout",
     "output_type": "stream",
     "text": [
      "rundkast_train_nb.csv\n",
      "rundkast_train_nn.csv\n",
      "rundkast_test_nb.csv\n",
      "rundkast_test_nn.csv\n",
      "rundkast_validation_nb.csv\n",
      "rundkast_validation_nn.csv\n"
     ]
    }
   ],
   "source": [
    "dataset_name = \"rundkast\"\n",
    "for k, v in rundkast_data_files_raw.items():\n",
    "    for lang in [\"nb\", \"nn\"]:\n",
    "        df = pd.read_csv(v, names=cols).dropna(subset=[\"utterance_audio_file\", \"standardized_text\"]).query(f\"language == '{lang}-NO' & duration > 1 & duration < 15\") # possibly add other cleanup methods here\n",
    "        outpath = dataset_name + \"_\" + k + \"_\" + lang + \".csv\"\n",
    "        df.to_csv(outpath, index=False)\n",
    "        print(outpath)"
   ]
  }
 ],
 "metadata": {
  "kernelspec": {
   "display_name": "scribe",
   "language": "python",
   "name": "scribe"
  },
  "language_info": {
   "codemirror_mode": {
    "name": "ipython",
    "version": 3
   },
   "file_extension": ".py",
   "mimetype": "text/x-python",
   "name": "python",
   "nbconvert_exporter": "python",
   "pygments_lexer": "ipython3",
   "version": "3.8.10"
  },
  "orig_nbformat": 4,
  "vscode": {
   "interpreter": {
    "hash": "d66c501128f0142389695bbff858a59eb740d2433f36fa1e590789fe92ac13c0"
   }
  }
 },
 "nbformat": 4,
 "nbformat_minor": 2
}
