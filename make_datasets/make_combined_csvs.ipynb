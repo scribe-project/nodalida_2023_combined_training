{
 "cells": [
  {
   "attachments": {},
   "cell_type": "markdown",
   "metadata": {},
   "source": [
    "# Make csvs with the combined datasets used in the paper \"Improving Generalization of Norwegian ASR with Limited Linguistic Resources\""
   ]
  },
  {
   "cell_type": "code",
   "execution_count": 3,
   "metadata": {},
   "outputs": [],
   "source": [
    "import pandas as pd\n",
    "import matplotlib.pyplot as plt\n",
    "from pathlib import Path\n",
    "import re"
   ]
  },
  {
   "cell_type": "code",
   "execution_count": 4,
   "metadata": {},
   "outputs": [],
   "source": [
    "cols = [\n",
    "    \"speaker_id\",\n",
    "    \"gender\",\n",
    "    \"utterance_id\",\n",
    "    \"language\",\n",
    "    \"raw_text\",\n",
    "    \"full_audio_file\",\n",
    "    \"original_data_split\",\n",
    "    \"region\",\n",
    "    \"duration\",\n",
    "    \"start\",\n",
    "    \"end\",\n",
    "    \"utterance_audio_file\",\n",
    "    \"standardized_text\",\n",
    "]"
   ]
  },
  {
   "cell_type": "code",
   "execution_count": 8,
   "metadata": {},
   "outputs": [
    {
     "name": "stdout",
     "output_type": "stream",
     "text": [
      "rundkast_20221102_test.csv\n",
      "rundkast_20221102_train.csv\n",
      "npsc_20230105_eval.csv\n",
      "npsc_20230105_train.csv\n",
      "rundkast_20221102_eval.csv\n",
      "npsc_20230105_test.csv\n"
     ]
    }
   ],
   "source": [
    "fnpattern = re.compile(r\"(rundkast|npsc)_\\d+_([a-z]+)\\.csv\")\n",
    "dfs = []\n",
    "for f in Path(\"raw_datasets\").glob(\"*.csv\"):\n",
    "    if fnpattern.match(f.name):\n",
    "        print(f.name)\n",
    "        ds, split = fnpattern.match(str(f.name)).groups()\n",
    "        df = pd.read_csv(f, names=cols)\n",
    "        df[\"dataset\"] = ds\n",
    "        df[\"split\"] = split\n",
    "        dfs.append(df)\n",
    "total_df = pd.concat(dfs)"
   ]
  },
  {
   "cell_type": "code",
   "execution_count": 9,
   "metadata": {},
   "outputs": [],
   "source": [
    "rundkast_train = total_df.query(\"dataset == 'rundkast' & language == 'nb-NO' & split == 'train' & duration > 1 & duration < 15\")\n",
    "rundkast_eval = total_df.query(\"dataset == 'rundkast' & language == 'nb-NO' & split == 'eval' & duration > 1 & duration < 15\")\n",
    "rundkast_test = total_df.query(\"dataset == 'rundkast' & language == 'nb-NO' & split == 'test' & duration > 1 & duration < 15\")\n",
    "npsc_train = total_df.query(\"dataset == 'npsc' & language == 'nb-NO' & split == 'train' & duration > 1 & duration < 15 & utterance_id != 'npsc_62309'\")\n",
    "npsc_eval = total_df.query(\"dataset == 'npsc' & language == 'nb-NO' & split == 'eval' & duration > 1 & duration < 15\")\n",
    "npsc_test = total_df.query(\"dataset == 'npsc' & language == 'nb-NO' & split == 'test' & duration > 1 & duration < 15\")"
   ]
  },
  {
   "cell_type": "code",
   "execution_count": 10,
   "metadata": {},
   "outputs": [
    {
     "data": {
      "image/png": "[encoded data removed]",
      "text/plain": [
       "<Figure size 432x288 with 1 Axes>"
      ]
     },
     "metadata": {
      "needs_background": "light"
     },
     "output_type": "display_data"
    }
   ],
   "source": [
    "plt.hist(npsc_train.duration, bins=30)\n",
    "plt.show()"
   ]
  },
  {
   "cell_type": "code",
   "execution_count": 11,
   "metadata": {},
   "outputs": [
    {
     "name": "stdout",
     "output_type": "stream",
     "text": [
      "NPSC train mean duration: 6.3301089532093595\n",
      "Rundkast train mean duration: 3.2661432262039463\n"
     ]
    }
   ],
   "source": [
    "print(f\"NPSC train mean duration: {npsc_train.duration.mean()}\")\n",
    "print(f\"Rundkast train mean duration: {rundkast_train.duration.mean()}\")"
   ]
  },
  {
   "cell_type": "code",
   "execution_count": 12,
   "metadata": {},
   "outputs": [
    {
     "name": "stdout",
     "output_type": "stream",
     "text": [
      "Relative increase in segment duration from Rundkast to NPSC: 0.9380990099954948\n"
     ]
    }
   ],
   "source": [
    "relative_increase = ((npsc_train.duration.mean()-rundkast_train.duration.mean())/rundkast_train.duration.mean())\n",
    "print(f\"Relative increase in segment duration from Rundkast to NPSC: {relative_increase}\")"
   ]
  },
  {
   "cell_type": "code",
   "execution_count": 13,
   "metadata": {},
   "outputs": [
    {
     "name": "stdout",
     "output_type": "stream",
     "text": [
      "Total duration in seconds NPSC train: 253254.99900000004\n",
      "Total duration in seconds Rundkast train: 157006.7710268499\n"
     ]
    }
   ],
   "source": [
    "duration_npsc_train_s = npsc_train.duration.sum()\n",
    "duration_rundkast_train_s = rundkast_train.duration.sum()\n",
    "print(f\"Total duration in seconds NPSC train: {duration_npsc_train_s}\")\n",
    "print(f\"Total duration in seconds Rundkast train: {duration_rundkast_train_s}\")"
   ]
  },
  {
   "cell_type": "code",
   "execution_count": 14,
   "metadata": {},
   "outputs": [],
   "source": [
    "npsc_sample_train = npsc_train.sample(frac=0.5, random_state=42)\n",
    "npsc_sample_eval = npsc_eval.sample(frac=0.5, random_state=42)\n",
    "npsc_sample_test = npsc_test.sample(frac=0.5, random_state=42)"
   ]
  },
  {
   "cell_type": "code",
   "execution_count": 16,
   "metadata": {},
   "outputs": [],
   "source": [
    "length_rk_sample_train = int((npsc_train.shape[0]/2)*(1+relative_increase))\n",
    "length_rk_sample_eval = int((npsc_eval.shape[0]/2)*(1+relative_increase))\n",
    "length_rk_sample_test = int((npsc_test.shape[0]/2)*(1+relative_increase))"
   ]
  },
  {
   "cell_type": "code",
   "execution_count": 17,
   "metadata": {},
   "outputs": [],
   "source": [
    "rundkast_sample_train = rundkast_train.sample(n=length_rk_sample_train, random_state=42)\n",
    "rundkast_sample_eval = rundkast_eval.sample(n=length_rk_sample_eval, random_state=42)\n",
    "rundkast_sample_test = rundkast_test.sample(n=length_rk_sample_test, random_state=42)"
   ]
  },
  {
   "cell_type": "code",
   "execution_count": 18,
   "metadata": {},
   "outputs": [
    {
     "name": "stdout",
     "output_type": "stream",
     "text": [
      "127010.231\n",
      "126526.0956339956\n"
     ]
    }
   ],
   "source": [
    "print(npsc_sample_train.duration.sum())\n",
    "print(rundkast_sample_train.duration.sum())"
   ]
  },
  {
   "cell_type": "code",
   "execution_count": 19,
   "metadata": {},
   "outputs": [
    {
     "name": "stdout",
     "output_type": "stream",
     "text": [
      "17229.486\n",
      "17533.461\n"
     ]
    }
   ],
   "source": [
    "print(npsc_sample_eval.duration.sum())\n",
    "print(rundkast_sample_eval.duration.sum())"
   ]
  },
  {
   "cell_type": "code",
   "execution_count": 20,
   "metadata": {},
   "outputs": [
    {
     "name": "stdout",
     "output_type": "stream",
     "text": [
      "16537.754\n",
      "16583.565000000002\n"
     ]
    }
   ],
   "source": [
    "print(npsc_sample_test.duration.sum())\n",
    "print(rundkast_sample_test.duration.sum())"
   ]
  },
  {
   "cell_type": "code",
   "execution_count": 21,
   "metadata": {},
   "outputs": [
    {
     "data": {
      "text/plain": [
       "4.688793899926046"
      ]
     },
     "execution_count": 21,
     "metadata": {},
     "output_type": "execute_result"
    }
   ],
   "source": [
    "# Difference in seconds between npsc train and combined dataset train\n",
    "(npsc_sample_train.duration.sum() + rundkast_sample_train.duration.sum() - duration_npsc_train_s)/60"
   ]
  },
  {
   "cell_type": "code",
   "execution_count": 22,
   "metadata": {},
   "outputs": [],
   "source": [
    "npsc_rundkast_sample_nb_train = pd.concat([npsc_sample_train, rundkast_sample_train]).sample(frac=1)\n",
    "npsc_rundkast_sample_nb_test = pd.concat([npsc_sample_test, rundkast_sample_test]).sample(frac=1)\n",
    "npsc_rundkast_sample_nb_eval = pd.concat([npsc_sample_eval, rundkast_sample_eval]).sample(frac=1)"
   ]
  },
  {
   "cell_type": "code",
   "execution_count": 23,
   "metadata": {},
   "outputs": [],
   "source": [
    "npsc_rundkast_sample_nb_train.to_csv(\"combined_datasets/npsc_rundkast_sample_nb_train.csv\", index=False)\n",
    "npsc_rundkast_sample_nb_test.to_csv(\"combined_datasets/npsc_rundkast_sample_nb_test.csv\", index=False)\n",
    "npsc_rundkast_sample_nb_eval.to_csv(\"combined_datasets/npsc_rundkast_sample_nb_eval.csv\", index=False)"
   ]
  },
  {
   "cell_type": "code",
   "execution_count": 24,
   "metadata": {},
   "outputs": [],
   "source": [
    "npsc_rundkast_total_nb_train = pd.concat([npsc_train, rundkast_train]).sample(frac=1)\n",
    "npsc_rundkast_total_nb_test = pd.concat([npsc_test, rundkast_test]).sample(frac=1)\n",
    "npsc_rundkast_total_nb_eval = pd.concat([npsc_eval, rundkast_eval]).sample(frac=1)"
   ]
  },
  {
   "cell_type": "code",
   "execution_count": 25,
   "metadata": {},
   "outputs": [],
   "source": [
    "npsc_rundkast_total_nb_train.to_csv(\"combined_datasets/npsc_rundkast_total_nb_train.csv\", index=False)\n",
    "npsc_rundkast_total_nb_test.to_csv(\"combined_datasets/npsc_rundkast_total_nb_test.csv\", index=False)\n",
    "npsc_rundkast_total_nb_eval.to_csv(\"combined_datasets/npsc_rundkast_total_nb_eval.csv\", index=False)"
   ]
  },
  {
   "cell_type": "code",
   "execution_count": null,
   "metadata": {},
   "outputs": [],
   "source": []
  }
 ],
 "metadata": {
  "kernelspec": {
   "display_name": "scribe",
   "language": "python",
   "name": "scribe"
  },
  "language_info": {
   "codemirror_mode": {
    "name": "ipython",
    "version": 3
   },
   "file_extension": ".py",
   "mimetype": "text/x-python",
   "name": "python",
   "nbconvert_exporter": "python",
   "pygments_lexer": "ipython3",
   "version": "3.8.10"
  },
  "orig_nbformat": 4
 },
 "nbformat": 4,
 "nbformat_minor": 2
}
